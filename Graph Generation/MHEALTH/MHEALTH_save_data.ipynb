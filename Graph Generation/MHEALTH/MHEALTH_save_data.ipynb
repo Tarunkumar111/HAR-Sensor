{
  "nbformat": 4,
  "nbformat_minor": 0,
  "metadata": {
    "colab": {
      "name": "MHEALTH_save_data.ipynb",
      "provenance": []
    },
    "kernelspec": {
      "name": "python3",
      "display_name": "Python 3"
    }
  },
  "cells": [
    {
      "cell_type": "code",
      "metadata": {
        "id": "ipDYiJ3YzkcJ",
        "colab_type": "code",
        "colab": {
          "base_uri": "https://localhost:8080/",
          "height": 126
        },
        "outputId": "75afb6fb-14e2-4ec0-9027-92ac64aee3ff"
      },
      "source": [
        "from google.colab import drive\n",
        "drive.mount('/content/drive',force_remount=True)"
      ],
      "execution_count": 1,
      "outputs": [
        {
          "output_type": "stream",
          "text": [
            "Go to this URL in a browser: https://accounts.google.com/o/oauth2/auth?client_id=947318989803-6bn6qk8qdgf4n4g3pfee6491hc0brc4i.apps.googleusercontent.com&redirect_uri=urn%3aietf%3awg%3aoauth%3a2.0%3aoob&response_type=code&scope=email%20https%3a%2f%2fwww.googleapis.com%2fauth%2fdocs.test%20https%3a%2f%2fwww.googleapis.com%2fauth%2fdrive%20https%3a%2f%2fwww.googleapis.com%2fauth%2fdrive.photos.readonly%20https%3a%2f%2fwww.googleapis.com%2fauth%2fpeopleapi.readonly\n",
            "\n",
            "Enter your authorization code:\n",
            "··········\n",
            "Mounted at /content/drive\n"
          ],
          "name": "stdout"
        }
      ]
    },
    {
      "cell_type": "code",
      "metadata": {
        "id": "GjqL7Hrt0GqK",
        "colab_type": "code",
        "colab": {}
      },
      "source": [
        "#importing required library,packages\n",
        "import pandas as pd\n",
        "import glob"
      ],
      "execution_count": 2,
      "outputs": []
    },
    {
      "cell_type": "code",
      "metadata": {
        "id": "U9peZM2k0vVw",
        "colab_type": "code",
        "colab": {}
      },
      "source": [
        "#data directory path\n",
        "datadirpath='/content/drive/My Drive/MHEALTHDATASET'"
      ],
      "execution_count": 3,
      "outputs": []
    },
    {
      "cell_type": "code",
      "metadata": {
        "id": "TsxDinkKzuUN",
        "colab_type": "code",
        "colab": {
          "base_uri": "https://localhost:8080/",
          "height": 675
        },
        "outputId": "0af85e37-e283-466e-96d6-f7467cc51155"
      },
      "source": [
        "#Concating all the files into single dataframe \n",
        "df_list=[]\n",
        "col_names=[]#columns used for dataframe\n",
        "for i in range(23):\n",
        "  col_names.append('feature-'+str(i+1)) #for features\n",
        "col_names.append('encoded-activity') #last col for encoded-activity\n",
        "\n",
        "file_names=glob.glob(datadirpath+'/*.log')\n",
        "for file_name in file_names:\n",
        "  print(\"Reading---\"+file_name+\"......\")\n",
        "  df=pd.read_csv(file_name,sep='\\t',names=col_names)\n",
        "  df=df[df['encoded-activity']!=0] \n",
        "  u_id=file_name.split('_')[1].split('.')[0][7:]\n",
        "  u_id=int(u_id)\n",
        "  df['user-id']=u_id\n",
        "  print(\"User-id---->\"+str(u_id))\n",
        "  df_list.append(df)\n",
        "\n",
        "df_=pd.concat(df_list,ignore_index=True)\n",
        "print(\"\\n----concatenated dataframe---\\n\")\n",
        "print(df_)"
      ],
      "execution_count": 4,
      "outputs": [
        {
          "output_type": "stream",
          "text": [
            "Reading---/content/drive/My Drive/MHEALTHDATASET/mHealth_subject1.log......\n",
            "User-id---->1\n",
            "Reading---/content/drive/My Drive/MHEALTHDATASET/mHealth_subject10.log......\n",
            "User-id---->10\n",
            "Reading---/content/drive/My Drive/MHEALTHDATASET/mHealth_subject2.log......\n",
            "User-id---->2\n",
            "Reading---/content/drive/My Drive/MHEALTHDATASET/mHealth_subject3.log......\n",
            "User-id---->3\n",
            "Reading---/content/drive/My Drive/MHEALTHDATASET/mHealth_subject4.log......\n",
            "User-id---->4\n",
            "Reading---/content/drive/My Drive/MHEALTHDATASET/mHealth_subject5.log......\n",
            "User-id---->5\n",
            "Reading---/content/drive/My Drive/MHEALTHDATASET/mHealth_subject6.log......\n",
            "User-id---->6\n",
            "Reading---/content/drive/My Drive/MHEALTHDATASET/mHealth_subject7.log......\n",
            "User-id---->7\n",
            "Reading---/content/drive/My Drive/MHEALTHDATASET/mHealth_subject8.log......\n",
            "User-id---->8\n",
            "Reading---/content/drive/My Drive/MHEALTHDATASET/mHealth_subject9.log......\n",
            "User-id---->9\n",
            "\n",
            "----concatenated dataframe---\n",
            "\n",
            "        feature-1  feature-2  feature-3  ...  feature-23  encoded-activity  user-id\n",
            "0         -9.7788    0.55690    1.19750  ...    -0.35020                 1        1\n",
            "1         -9.7733    0.27880    0.73036  ...     0.37363                 1        1\n",
            "2         -9.8609    0.11561    0.79988  ...    -0.35020                 1        1\n",
            "3         -9.7409    0.17652    0.88957  ...    -0.35198                 1        1\n",
            "4         -9.7821    0.21637    0.90368  ...    -0.72017                 1        1\n",
            "...           ...        ...        ...  ...         ...               ...      ...\n",
            "343190    -8.6500   -0.83185   -2.23280  ...    46.28200                 5        9\n",
            "343191    -8.9892   -1.04290   -1.67280  ...    41.64200                 5        9\n",
            "343192    -9.4536   -1.05650   -1.77930  ...    35.52600                 5        9\n",
            "343193   -10.1930   -1.43780   -1.77150  ...    28.67200                 5        9\n",
            "343194   -10.1070   -1.72800   -1.95550  ...    21.79700                 5        9\n",
            "\n",
            "[343195 rows x 25 columns]\n"
          ],
          "name": "stdout"
        }
      ]
    },
    {
      "cell_type": "code",
      "metadata": {
        "id": "vz2GrRmG4bLt",
        "colab_type": "code",
        "colab": {
          "base_uri": "https://localhost:8080/",
          "height": 71
        },
        "outputId": "41083d34-86c0-451e-a5ea-a74ca8b3c7b5"
      },
      "source": [
        "'''\n",
        "all activity names\n",
        "L1: Standing still (1 min) \n",
        "L2: Sitting and relaxing (1 min) \n",
        "L3: Lying down (1 min) \n",
        "L4: Walking (1 min) \n",
        "L5: Climbing stairs (1 min) \n",
        "L6: Waist bends forward (20x) \n",
        "L7: Frontal elevation of arms (20x)\n",
        "L8: Knees bending (crouching) (20x)\n",
        "L9: Cycling (1 min)\n",
        "L11: Running (1 min)\n",
        "L12: Jump front & back (20x)\n",
        "'''"
      ],
      "execution_count": 5,
      "outputs": [
        {
          "output_type": "execute_result",
          "data": {
            "application/vnd.google.colaboratory.intrinsic+json": {
              "type": "string"
            },
            "text/plain": [
              "'\\nall activity names\\nL1: Standing still (1 min) \\nL2: Sitting and relaxing (1 min) \\nL3: Lying down (1 min) \\nL4: Walking (1 min) \\nL5: Climbing stairs (1 min) \\nL6: Waist bends forward (20x) \\nL7: Frontal elevation of arms (20x)\\nL8: Knees bending (crouching) (20x)\\nL9: Cycling (1 min)\\nL11: Running (1 min)\\nL12: Jump front & back (20x)\\n'"
            ]
          },
          "metadata": {
            "tags": []
          },
          "execution_count": 5
        }
      ]
    },
    {
      "cell_type": "code",
      "metadata": {
        "id": "ynWHQ59PEJ8I",
        "colab_type": "code",
        "colab": {
          "base_uri": "https://localhost:8080/",
          "height": 55
        },
        "outputId": "5bd57ce1-ab5a-490a-e8da-704364b51184"
      },
      "source": [
        "activity_map={}\n",
        "activity_map[1]='Standing still'\n",
        "activity_map[2]='Sitting and relaxing'\n",
        "activity_map[3]='Lying down'\n",
        "activity_map[4]='Walking'\n",
        "activity_map[5]='Climbing stairs'\n",
        "activity_map[6]='Waist bends forward'\n",
        "activity_map[7]='Frontal elevation of arms'\n",
        "activity_map[8]='Knees bending'\n",
        "activity_map[9]='Cycling'\n",
        "activity_map[10]='Jogging'\n",
        "activity_map[11]='Running'\n",
        "activity_map[12]='Jump front & back'\n",
        "print(activity_map)"
      ],
      "execution_count": 8,
      "outputs": [
        {
          "output_type": "stream",
          "text": [
            "{1: 'Standing still', 2: 'Sitting and relaxing', 3: 'Lying down', 4: 'Walking', 5: 'Climbing stairs', 6: 'Waist bends forward', 7: 'Frontal elevation of arms', 8: 'Knees bending', 9: 'Cycling', 10: 'Jogging', 11: 'Running', 12: 'Jump front & back'}\n"
          ],
          "name": "stdout"
        }
      ]
    },
    {
      "cell_type": "code",
      "metadata": {
        "id": "FrQM47YyET-c",
        "colab_type": "code",
        "colab": {
          "base_uri": "https://localhost:8080/",
          "height": 355
        },
        "outputId": "f2ad1298-d989-416c-c69f-74c99942dfea"
      },
      "source": [
        "#extra activity column added for getting activity names for each entry in the dataframe\n",
        "df_['activity']=''\n",
        "for i in range(len(df_)):\n",
        "  df_['activity'].loc[i]=activity_map[df_['encoded-activity'].loc[i]]\n",
        "print(df_)"
      ],
      "execution_count": 9,
      "outputs": [
        {
          "output_type": "stream",
          "text": [
            "/usr/local/lib/python3.6/dist-packages/pandas/core/indexing.py:671: SettingWithCopyWarning: \n",
            "A value is trying to be set on a copy of a slice from a DataFrame\n",
            "\n",
            "See the caveats in the documentation: https://pandas.pydata.org/pandas-docs/stable/user_guide/indexing.html#returning-a-view-versus-a-copy\n",
            "  self._setitem_with_indexer(indexer, value)\n"
          ],
          "name": "stderr"
        },
        {
          "output_type": "stream",
          "text": [
            "        feature-1  feature-2  ...  user-id         activity\n",
            "0         -9.7788    0.55690  ...        1   Standing still\n",
            "1         -9.7733    0.27880  ...        1   Standing still\n",
            "2         -9.8609    0.11561  ...        1   Standing still\n",
            "3         -9.7409    0.17652  ...        1   Standing still\n",
            "4         -9.7821    0.21637  ...        1   Standing still\n",
            "...           ...        ...  ...      ...              ...\n",
            "343190    -8.6500   -0.83185  ...        9  Climbing stairs\n",
            "343191    -8.9892   -1.04290  ...        9  Climbing stairs\n",
            "343192    -9.4536   -1.05650  ...        9  Climbing stairs\n",
            "343193   -10.1930   -1.43780  ...        9  Climbing stairs\n",
            "343194   -10.1070   -1.72800  ...        9  Climbing stairs\n",
            "\n",
            "[343195 rows x 26 columns]\n"
          ],
          "name": "stdout"
        }
      ]
    },
    {
      "cell_type": "code",
      "metadata": {
        "id": "YjPBIO83EWGu",
        "colab_type": "code",
        "colab": {}
      },
      "source": [
        "#saving the dataframe---purpose is to load the saved csv for every run\n",
        "df_.to_csv('/content/drive/My Drive/MHEALTHDATASET/rawdata.csv')"
      ],
      "execution_count": null,
      "outputs": []
    }
  ]
}